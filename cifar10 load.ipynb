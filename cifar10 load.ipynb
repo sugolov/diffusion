{
 "cells": [
  {
   "cell_type": "code",
   "execution_count": 7,
   "id": "0e576ed0-813c-4f78-b7ef-88d3c13d2325",
   "metadata": {},
   "outputs": [
    {
     "data": {
      "application/vnd.jupyter.widget-view+json": {
       "model_id": "e74e3f7cdbdd43c1b047f3be978f2fdb",
       "version_major": 2,
       "version_minor": 0
      },
      "text/plain": [
       "Downloading data:   0%|          | 0.00/120M [00:00<?, ?B/s]"
      ]
     },
     "metadata": {},
     "output_type": "display_data"
    },
    {
     "data": {
      "application/vnd.jupyter.widget-view+json": {
       "model_id": "67716cd0dbfb442cad4382e9da946533",
       "version_major": 2,
       "version_minor": 0
      },
      "text/plain": [
       "Downloading data:   0%|          | 0.00/23.9M [00:00<?, ?B/s]"
      ]
     },
     "metadata": {},
     "output_type": "display_data"
    },
    {
     "data": {
      "application/vnd.jupyter.widget-view+json": {
       "model_id": "ac77c142612c4fe9b5a744c1d8601aa0",
       "version_major": 2,
       "version_minor": 0
      },
      "text/plain": [
       "Generating train split:   0%|          | 0/50000 [00:00<?, ? examples/s]"
      ]
     },
     "metadata": {},
     "output_type": "display_data"
    },
    {
     "data": {
      "application/vnd.jupyter.widget-view+json": {
       "model_id": "8ab7a4abf9f342aa8c68f8ffe81aa4bb",
       "version_major": 2,
       "version_minor": 0
      },
      "text/plain": [
       "Generating test split:   0%|          | 0/10000 [00:00<?, ? examples/s]"
      ]
     },
     "metadata": {},
     "output_type": "display_data"
    }
   ],
   "source": [
    "from datasets import load_dataset\n",
    "from torchvision.transforms import Compose, PILToTensor, ConvertImageDtype\n",
    "\n",
    "cifar10 = load_dataset(\"uoft-cs/cifar10\", split = \"train\", cache_dir=\"/run/media/anton/hdd/hf\")"
   ]
  },
  {
   "cell_type": "code",
   "execution_count": 11,
   "id": "042483dd-969d-44ff-bba7-cb10c86513e8",
   "metadata": {},
   "outputs": [],
   "source": [
    "from torchvision import transforms\n",
    "\n",
    "preprocess = transforms.Compose(\n",
    "            [\n",
    "                transforms.ToTensor(),\n",
    "                transforms.Normalize([0.5], [0.5]),\n",
    "            ]\n",
    "        )\n",
    "\n",
    "def transform(examples):\n",
    "    images = [preprocess(image.convert(\"RGB\")) for image in examples[\"img\"]]\n",
    "    return {\"images\": images}\n"
   ]
  },
  {
   "cell_type": "code",
   "execution_count": 12,
   "id": "0974e071-48ed-4535-8241-7eb53ac7b004",
   "metadata": {},
   "outputs": [],
   "source": [
    "cifar10.set_transform(transform)"
   ]
  },
  {
   "cell_type": "code",
   "execution_count": 13,
   "id": "051066b1-655c-45f1-b329-3418320b6cc1",
   "metadata": {},
   "outputs": [
    {
     "data": {
      "text/plain": [
       "Dataset({\n",
       "    features: ['img', 'label'],\n",
       "    num_rows: 50000\n",
       "})"
      ]
     },
     "execution_count": 13,
     "metadata": {},
     "output_type": "execute_result"
    }
   ],
   "source": [
    "cifar10"
   ]
  },
  {
   "cell_type": "code",
   "execution_count": 16,
   "id": "23f02a11-9db8-4f07-9426-42408e644b99",
   "metadata": {},
   "outputs": [],
   "source": [
    "import torch\n",
    "train_dataloader = torch.utils.data.DataLoader(cifar10, batch_size=16, shuffle=True)"
   ]
  },
  {
   "cell_type": "code",
   "execution_count": 20,
   "id": "97d9f273-6164-41bc-b5ec-095e8b440a13",
   "metadata": {},
   "outputs": [
    {
     "name": "stdout",
     "output_type": "stream",
     "text": [
      "torch.Size([16, 3, 32, 32])\n"
     ]
    }
   ],
   "source": [
    "for i, data in enumerate(train_dataloader):\n",
    "    if i ==0:\n",
    "        print(data[\"images\"].shape)"
   ]
  },
  {
   "cell_type": "code",
   "execution_count": null,
   "id": "5e088453-14f0-442e-87de-863d8a0868f3",
   "metadata": {},
   "outputs": [],
   "source": []
  }
 ],
 "metadata": {
  "kernelspec": {
   "display_name": "torch-env",
   "language": "python",
   "name": "torch-env"
  },
  "language_info": {
   "codemirror_mode": {
    "name": "ipython",
    "version": 3
   },
   "file_extension": ".py",
   "mimetype": "text/x-python",
   "name": "python",
   "nbconvert_exporter": "python",
   "pygments_lexer": "ipython3",
   "version": "3.12.4"
  }
 },
 "nbformat": 4,
 "nbformat_minor": 5
}
