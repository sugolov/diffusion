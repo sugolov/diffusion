{
 "cells": [
  {
   "cell_type": "code",
   "execution_count": 1,
   "id": "0e576ed0-813c-4f78-b7ef-88d3c13d2325",
   "metadata": {},
   "outputs": [],
   "source": [
    "from datasets import load_dataset\n",
    "from torchvision.transforms import Compose, PILToTensor, ConvertImageDtype\n",
    "\n",
    "cifar10 = load_dataset(\"uoft-cs/cifar10\", split=\"train\", cache_dir=\"/run/media/anton/hdd/hf\")"
   ]
  },
  {
   "cell_type": "code",
   "execution_count": 2,
   "id": "042483dd-969d-44ff-bba7-cb10c86513e8",
   "metadata": {},
   "outputs": [],
   "source": [
    "from torchvision import transforms\n",
    "\n",
    "preprocess = transforms.Compose(\n",
    "            [\n",
    "                transforms.ToTensor(),\n",
    "                transforms.Normalize([0.5], [0.5]),\n",
    "            ]\n",
    "        )\n",
    "\n",
    "def transform(examples):\n",
    "    images = [preprocess(image.convert(\"RGB\")) for image in examples[\"img\"]]\n",
    "    return {\"images\": images}\n"
   ]
  },
  {
   "cell_type": "code",
   "execution_count": 3,
   "id": "0974e071-48ed-4535-8241-7eb53ac7b004",
   "metadata": {},
   "outputs": [],
   "source": [
    "cifar10.set_transform(transform)"
   ]
  },
  {
   "cell_type": "code",
   "execution_count": 4,
   "id": "051066b1-655c-45f1-b329-3418320b6cc1",
   "metadata": {},
   "outputs": [
    {
     "data": {
      "text/plain": [
       "Dataset({\n",
       "    features: ['img', 'label'],\n",
       "    num_rows: 50000\n",
       "})"
      ]
     },
     "execution_count": 4,
     "metadata": {},
     "output_type": "execute_result"
    }
   ],
   "source": [
    "cifar10"
   ]
  },
  {
   "cell_type": "code",
   "execution_count": 5,
   "id": "23f02a11-9db8-4f07-9426-42408e644b99",
   "metadata": {},
   "outputs": [],
   "source": [
    "import torch\n",
    "train_dataloader = torch.utils.data.DataLoader(cifar10, batch_size=16, shuffle=True)"
   ]
  },
  {
   "cell_type": "code",
   "execution_count": 6,
   "id": "97d9f273-6164-41bc-b5ec-095e8b440a13",
   "metadata": {},
   "outputs": [
    {
     "name": "stdout",
     "output_type": "stream",
     "text": [
      "torch.Size([16, 3, 32, 32])\n"
     ]
    }
   ],
   "source": [
    "for i, data in enumerate(train_dataloader):\n",
    "    if i==0:\n",
    "        print(data[\"images\"].shape)"
   ]
  },
  {
   "cell_type": "markdown",
   "id": "28588acb-8c68-4fdf-b2b0-6340596ddfd4",
   "metadata": {},
   "source": [
    "## Create new dataset with half the size"
   ]
  },
  {
   "cell_type": "code",
   "execution_count": 7,
   "id": "25a5060a-8cf9-40ef-a79c-64c5c70aa4b5",
   "metadata": {},
   "outputs": [],
   "source": [
    "from torch.utils.data import Subset\n",
    "\n",
    "N_subset = 5000\n",
    "\n",
    "indices = list(range(0, N_subset))\n",
    "\n",
    "train_subset = Subset(train_dataloader, indices)"
   ]
  },
  {
   "cell_type": "code",
   "execution_count": 8,
   "id": "ec85f8c6-4b79-4e0f-a7b1-3fa44961f5ee",
   "metadata": {},
   "outputs": [
    {
     "ename": "NameError",
     "evalue": "name 'train' is not defined",
     "output_type": "error",
     "traceback": [
      "\u001b[0;31m---------------------------------------------------------------------------\u001b[0m",
      "\u001b[0;31mNameError\u001b[0m                                 Traceback (most recent call last)",
      "Cell \u001b[0;32mIn[8], line 1\u001b[0m\n\u001b[0;32m----> 1\u001b[0m \u001b[38;5;28mtype\u001b[39m(\u001b[43mtrain\u001b[49m\u001b[38;5;241m.\u001b[39mtrain_subset)\n",
      "\u001b[0;31mNameError\u001b[0m: name 'train' is not defined"
     ]
    }
   ],
   "source": [
    "type(train.train_subset)"
   ]
  },
  {
   "cell_type": "markdown",
   "id": "409206d0-e729-444c-be74-29e8ab551742",
   "metadata": {},
   "source": [
    "## specify N_subset in training script with --\n",
    "\n",
    "- specify number\n",
    "- add it to config\n",
    "- modify loader in setup script\n",
    "- train many ddpm on diff datasets"
   ]
  },
  {
   "cell_type": "code",
   "execution_count": 12,
   "id": "d510ccf4-08f7-40ca-86c9-7066f96e6c04",
   "metadata": {},
   "outputs": [],
   "source": [
    "from train.config import SmithsonianButterflyTrainingConfig\n"
   ]
  },
  {
   "cell_type": "code",
   "execution_count": 13,
   "id": "bc20716d-0b01-47a6-8452-d17a9513f444",
   "metadata": {},
   "outputs": [],
   "source": []
  },
  {
   "cell_type": "code",
   "execution_count": null,
   "id": "acb4d902-71b1-4d97-88a0-dc5c157e7ae5",
   "metadata": {},
   "outputs": [],
   "source": []
  },
  {
   "cell_type": "code",
   "execution_count": null,
   "id": "7f4415c1-3f8b-4988-a965-d130cf18fad7",
   "metadata": {},
   "outputs": [],
   "source": []
  },
  {
   "cell_type": "code",
   "execution_count": null,
   "id": "54348f46-b2f0-4e0b-920c-bfab8934452f",
   "metadata": {},
   "outputs": [],
   "source": []
  },
  {
   "cell_type": "code",
   "execution_count": null,
   "id": "db1e3cd7-0333-40d9-b5ad-72bc8623b55f",
   "metadata": {},
   "outputs": [],
   "source": []
  },
  {
   "cell_type": "code",
   "execution_count": null,
   "id": "56d13783-44f5-4048-861d-a4548940e36b",
   "metadata": {},
   "outputs": [],
   "source": []
  },
  {
   "cell_type": "code",
   "execution_count": null,
   "id": "15785859-e19e-4698-a06a-e40b7218dee9",
   "metadata": {},
   "outputs": [],
   "source": []
  },
  {
   "cell_type": "code",
   "execution_count": null,
   "id": "3d00284b-3bec-47e4-a30d-64259fc939fc",
   "metadata": {},
   "outputs": [],
   "source": []
  },
  {
   "cell_type": "code",
   "execution_count": null,
   "id": "04524a04-ff63-4ac6-b18b-111f1c88b48d",
   "metadata": {},
   "outputs": [],
   "source": []
  },
  {
   "cell_type": "code",
   "execution_count": null,
   "id": "7cff36a0-418a-45cb-a2db-9115a51b3e5e",
   "metadata": {},
   "outputs": [],
   "source": []
  },
  {
   "cell_type": "code",
   "execution_count": null,
   "id": "9d875648-6ff1-4cb0-85a4-5bf9325abfd3",
   "metadata": {},
   "outputs": [],
   "source": []
  },
  {
   "cell_type": "code",
   "execution_count": null,
   "id": "426cdc0e-8317-46a2-9f35-381104df4734",
   "metadata": {},
   "outputs": [],
   "source": []
  },
  {
   "cell_type": "code",
   "execution_count": null,
   "id": "80b0fd18-2e67-4542-ae51-0e460b835ec3",
   "metadata": {},
   "outputs": [],
   "source": []
  }
 ],
 "metadata": {
  "kernelspec": {
   "display_name": "torch-env",
   "language": "python",
   "name": "torch-env"
  },
  "language_info": {
   "codemirror_mode": {
    "name": "ipython",
    "version": 3
   },
   "file_extension": ".py",
   "mimetype": "text/x-python",
   "name": "python",
   "nbconvert_exporter": "python",
   "pygments_lexer": "ipython3",
   "version": "3.12.4"
  }
 },
 "nbformat": 4,
 "nbformat_minor": 5
}
